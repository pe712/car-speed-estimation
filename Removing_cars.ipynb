{
 "cells": [
  {
   "cell_type": "code",
   "execution_count": null,
   "metadata": {},
   "outputs": [],
   "source": [
    "import numpy as np\n",
    "\n",
    "# select from both images pixels not in bounding box\n",
    "# intersect the two selections\n",
    "# mask = \n",
    "# np.sum((img1[not mask]-img2[not mask])**2)\n",
    "\n",
    "# select a dataset with immatriculation annotation\n",
    "# try to make connected components by color, extract one looking rectangular\n",
    "# looking rectangular => can be mapped to a rectangle through a homography\n",
    "\n",
    "# => probably bad results\n",
    " "
   ]
  }
 ],
 "metadata": {
  "kernelspec": {
   "display_name": ".venv",
   "language": "python",
   "name": "python3"
  },
  "language_info": {
   "name": "python",
   "version": "3.11.5"
  },
  "orig_nbformat": 4
 },
 "nbformat": 4,
 "nbformat_minor": 2
}
